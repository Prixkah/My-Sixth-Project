{
 "cells": [
  {
   "cell_type": "code",
   "execution_count": 1,
   "id": "53d2a4dd",
   "metadata": {},
   "outputs": [
    {
     "name": "stdout",
     "output_type": "stream",
     "text": [
      "[45, 34, 67]\n"
     ]
    }
   ],
   "source": [
    "from array import *\n",
    "def array_list(array_num):\n",
    "    num_list = array_num.tolist() # list\n",
    "    print(num_list)\n",
    "  \n",
    "# driver code\n",
    "array_num = array('i', [45,34,67]) # array\n",
    "array_list(array_num)"
   ]
  },
  {
   "cell_type": "code",
   "execution_count": 3,
   "id": "6ea06b8d",
   "metadata": {},
   "outputs": [
    {
     "name": "stdout",
     "output_type": "stream",
     "text": [
      "Numpy Matrix is:\n",
      "[[55 25 15]\n",
      " [30 44  2]\n",
      " [11 45 77]]\n",
      "\n",
      "Trace of given 3X3 matrix:\n",
      "176\n"
     ]
    }
   ],
   "source": [
    "\n",
    "# importing Numpy package\n",
    "import numpy as np\n",
    "  \n",
    "# creating a 3X3 Numpy matrix\n",
    "n_array = np.array([[55, 25, 15],\n",
    "                    [30, 44, 2],\n",
    "                    [11, 45, 77]])\n",
    "  \n",
    "# Displaying the Matrix\n",
    "print(\"Numpy Matrix is:\")\n",
    "print(n_array)\n",
    "  \n",
    "# calculating the Trace of a matrix\n",
    "trace = np.trace(n_array)\n",
    "  \n",
    "  \n",
    "print(\"\\nTrace of given 3X3 matrix:\")\n",
    "print(trace)"
   ]
  },
  {
   "cell_type": "code",
   "execution_count": 4,
   "id": "96fed08f",
   "metadata": {},
   "outputs": [
    {
     "name": "stdout",
     "output_type": "stream",
     "text": [
      "Original matrix:\n",
      "\n",
      "[[0.95244345 0.38688569 0.9358956  0.23156261 0.90901437 0.78343612\n",
      "  0.03507237 0.07020586 0.58590893 0.6493597 ]\n",
      " [0.25708041 0.36263126 0.5979227  0.43606952 0.85361871 0.26183942\n",
      "  0.72997231 0.44561717 0.06115484 0.77827324]\n",
      " [0.24953911 0.75723306 0.71852669 0.42774287 0.33350536 0.19631396\n",
      "  0.34307657 0.16742032 0.66137801 0.93773401]\n",
      " [0.62966259 0.20643912 0.46804746 0.63564916 0.15934018 0.87158881\n",
      "  0.23033953 0.77699765 0.35799094 0.9452901 ]\n",
      " [0.53714636 0.14577153 0.47250399 0.23956601 0.92864409 0.21437077\n",
      "  0.25977845 0.57500035 0.21493545 0.49146703]]\n",
      "\n",
      "Subtract the mean of each row of the said matrix:\n",
      "\n",
      "[[ 0.39846498 -0.16709278  0.38191713 -0.32241586  0.3550359   0.22945765\n",
      "  -0.5189061  -0.48377261  0.03193046  0.09538123]\n",
      " [-0.22133755 -0.1157867   0.11950474 -0.04234843  0.37520076 -0.21657854\n",
      "   0.25155435 -0.03280079 -0.41726312  0.29985528]\n",
      " [-0.22970789  0.27798606  0.2392797  -0.05150412 -0.14574163 -0.28293303\n",
      "  -0.13617043 -0.31182668  0.18213101  0.45848701]\n",
      " [ 0.10152804 -0.32169544 -0.0600871   0.1075146  -0.36879437  0.34345425\n",
      "  -0.29779502  0.2488631  -0.17014361  0.41715555]\n",
      " [ 0.12922796 -0.26214687  0.06458558 -0.16835239  0.52072569 -0.19354763\n",
      "  -0.14813996  0.16708195 -0.19298296  0.08354862]]\n"
     ]
    }
   ],
   "source": [
    "import numpy as np\n",
    "print(\"Original matrix:\\n\")\n",
    "X = np.random.rand(5, 10)\n",
    "print(X)\n",
    "print(\"\\nSubtract the mean of each row of the said matrix:\\n\")\n",
    "Y = X - X.mean(axis=1, keepdims=True)\n",
    "print(Y)\n"
   ]
  },
  {
   "cell_type": "code",
   "execution_count": null,
   "id": "690edea4",
   "metadata": {},
   "outputs": [],
   "source": []
  }
 ],
 "metadata": {
  "kernelspec": {
   "display_name": "Python 3 (ipykernel)",
   "language": "python",
   "name": "python3"
  },
  "language_info": {
   "codemirror_mode": {
    "name": "ipython",
    "version": 3
   },
   "file_extension": ".py",
   "mimetype": "text/x-python",
   "name": "python",
   "nbconvert_exporter": "python",
   "pygments_lexer": "ipython3",
   "version": "3.9.7"
  }
 },
 "nbformat": 4,
 "nbformat_minor": 5
}
